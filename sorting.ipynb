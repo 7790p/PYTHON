{
 "cells": [
  {
   "cell_type": "markdown",
   "metadata": {},
   "source": [
    "# insertion sort\n",
    "time ccomplexity n^2(average and worst 0\n",
    "best suit for small array that are mostly in sort)\n",
    "best n..when sorted"
   ]
  },
  {
   "cell_type": "code",
   "execution_count": 2,
   "metadata": {},
   "outputs": [
    {
     "name": "stdout",
     "output_type": "stream",
     "text": [
      "[2, 8, 3, 5, 4, 9, 7]\n",
      "[2, 3, 8, 5, 4, 9, 7]\n",
      "[2, 3, 5, 8, 4, 9, 7]\n",
      "[2, 3, 5, 4, 8, 9, 7]\n",
      "[2, 3, 4, 5, 8, 9, 7]\n",
      "[2, 3, 4, 5, 8, 7, 9]\n",
      "[2, 3, 4, 5, 7, 8, 9]\n",
      "final\n",
      "[2, 3, 4, 5, 7, 8, 9]\n"
     ]
    }
   ],
   "source": [
    "n=[8,2,3,5,4,9,7]\n",
    "for i in range(1,len(n)):\n",
    "    d=n[i]\n",
    "    j=i\n",
    "    while j>0 and n[j-1]>d:\n",
    "        n[j]=n[j-1]\n",
    "        j=j-1\n",
    "        n[j]=d\n",
    "        print(n)\n",
    "print(\"final\")\n",
    "print(n)"
   ]
  },
  {
   "cell_type": "markdown",
   "metadata": {},
   "source": [
    "selection sort\n",
    "# time complexity o(n^2)\n",
    "## select first element and minimum from a array and replave them and increment by one\n"
   ]
  },
  {
   "cell_type": "code",
   "execution_count": 12,
   "metadata": {},
   "outputs": [
    {
     "name": "stdout",
     "output_type": "stream",
     "text": [
      "[2, 8, 3, 5, 4, 9, 7]\n",
      "[2, 3, 8, 5, 4, 9, 7]\n",
      "[2, 3, 4, 5, 8, 9, 7]\n",
      "[2, 3, 4, 5, 8, 9, 7]\n",
      "[2, 3, 4, 5, 7, 9, 8]\n",
      "[2, 3, 4, 5, 7, 8, 9]\n",
      "[2, 3, 4, 5, 7, 8, 9]\n",
      "final result\n",
      "[2, 3, 4, 5, 7, 8, 9]\n"
     ]
    }
   ],
   "source": [
    "n=[8,2,3,5,4,9,7]\n",
    "for i in range(0,len(n)):\n",
    "    k=n[i]\n",
    "    s=min(n[i:])\n",
    "    l=n.index(s)\n",
    "    n[l]=k\n",
    "    n[i]=s\n",
    "    print(n)\n",
    "print(\"final result\")\n",
    "print(n)"
   ]
  },
  {
   "cell_type": "markdown",
   "metadata": {},
   "source": [
    "# bubble sort\n",
    "## Bubble Sort is the simplest sorting algorithm that works by repeatedly swapping the adjacent elements if they are in wrong order.\n",
    "### worst and avg = (n*n)\n",
    "### best (n)"
   ]
  },
  {
   "cell_type": "code",
   "execution_count": 4,
   "metadata": {},
   "outputs": [
    {
     "name": "stdout",
     "output_type": "stream",
     "text": [
      "[2, 8, 3, 5, 4, 9, 7]\n",
      "[2, 3, 8, 5, 4, 9, 7]\n",
      "[2, 3, 5, 8, 4, 9, 7]\n",
      "[2, 3, 5, 4, 8, 9, 7]\n",
      "[2, 3, 5, 4, 8, 9, 7]\n",
      "[2, 3, 5, 4, 8, 7, 9]\n",
      "[2, 3, 5, 4, 8, 7, 9]\n",
      "[2, 3, 5, 4, 8, 7, 9]\n",
      "[2, 3, 4, 5, 8, 7, 9]\n",
      "[2, 3, 4, 5, 8, 7, 9]\n",
      "[2, 3, 4, 5, 7, 8, 9]\n",
      "[2, 3, 4, 5, 7, 8, 9]\n",
      "[2, 3, 4, 5, 7, 8, 9]\n",
      "[2, 3, 4, 5, 7, 8, 9]\n",
      "[2, 3, 4, 5, 7, 8, 9]\n",
      "[2, 3, 4, 5, 7, 8, 9]\n",
      "[2, 3, 4, 5, 7, 8, 9]\n",
      "[2, 3, 4, 5, 7, 8, 9]\n",
      "[2, 3, 4, 5, 7, 8, 9]\n",
      "[2, 3, 4, 5, 7, 8, 9]\n",
      "[2, 3, 4, 5, 7, 8, 9]\n",
      "[2, 3, 4, 5, 7, 8, 9]\n"
     ]
    }
   ],
   "source": [
    "n=[8,2,3,5,4,9,7]\n",
    "for i in range(0,len(n)):\n",
    "    for j in range(0,len(n)-i-1):\n",
    "        if n[j]>n[j+1]:\n",
    "            n[j],n[j+1]=n[j+1],n[j]\n",
    "        print(n)\n",
    "print(n)"
   ]
  },
  {
   "cell_type": "markdown",
   "metadata": {},
   "source": [
    "# merge sort\n",
    "## nlogn for all\n",
    "/\n"
   ]
  },
  {
   "cell_type": "code",
   "execution_count": 29,
   "metadata": {},
   "outputs": [
    {
     "name": "stdout",
     "output_type": "stream",
     "text": [
      "[2, 3, 4, 5, 7, 8, 9]\n"
     ]
    }
   ],
   "source": [
    "def merge(arr):\n",
    "    if len(arr)>1:\n",
    "        mid=len(arr)//2\n",
    "        l=arr[:mid]\n",
    "        r=arr[mid:]\n",
    "        merge(l)\n",
    "        merge(r)\n",
    "        i=j=k=0\n",
    "        while i<len(l) and j<len(r):\n",
    "            if l[i]<r[j]:\n",
    "                arr[k]=l[i]\n",
    "                i=i+1\n",
    "                k=k+1\n",
    "            else:\n",
    "                arr[k]=r[j]\n",
    "                j=j+1\n",
    "                k=k+1\n",
    "        while i<len(l):\n",
    "            arr[k]=l[i]\n",
    "            k=k+1\n",
    "            i=i+1\n",
    "        while j<len(r):\n",
    "            arr[k]=r[j]\n",
    "            k=k+1\n",
    "            j=j+1\n",
    "       \n",
    "arr=[8,2,3,5,4,9,7]\n",
    "merge(arr)\n",
    "print(arr)"
   ]
  },
  {
   "cell_type": "markdown",
   "metadata": {},
   "source": [
    "# quick sort\n",
    "## best n\n",
    "## avg nlogn\n",
    "### worst n^2\n"
   ]
  },
  {
   "cell_type": "code",
   "execution_count": 39,
   "metadata": {},
   "outputs": [
    {
     "name": "stdout",
     "output_type": "stream",
     "text": [
      "[8, 2, 3, 5, 4, 9, 7]\n"
     ]
    }
   ],
   "source": [
    "def q(a,l,r):\n",
    "    if r-l>=1:\n",
    "        return\n",
    "    y=l+1\n",
    "    for g in range(l+1,r):\n",
    "        if a[g]<=a[l]:\n",
    "            a[g],a[y]=a[y],a[g]\n",
    "            y=y+1\n",
    "    a[y-1],a[l]=a[l],a[y-1]\n",
    "    q(a,l,y-1)\n",
    "    q(a,y,r)\n",
    "n=[8,2,3,5,4,9,7]\n",
    "q(n,0,len(n))\n",
    "print(n)"
   ]
  },
  {
   "cell_type": "code",
   "execution_count": 1,
   "metadata": {},
   "outputs": [
    {
     "name": "stdout",
     "output_type": "stream",
     "text": [
      "[2, 3, 4, 5, 7, 8, 9]\n"
     ]
    }
   ],
   "source": [
    "n=[8,2,3,5,4,9,7]\n",
    "for i in range(1,len(n)):\n",
    "    d=n[i]\n",
    "    j=i\n",
    "    while j>0 and n[j-1]>d:\n",
    "        n[j]=n[j-1]\n",
    "        n[j-1]=d\n",
    "        j=j-1\n",
    "print(n)"
   ]
  },
  {
   "cell_type": "code",
   "execution_count": 11,
   "metadata": {},
   "outputs": [
    {
     "name": "stdout",
     "output_type": "stream",
     "text": [
      "[2, 3, 4, 5, 7, 8, 9]\n"
     ]
    }
   ],
   "source": [
    "n=[8,2,3,5,4,9,7]\n",
    "for i in range(0,len(n)):\n",
    "    d=n[i]\n",
    "    e=min(n[i:])\n",
    "    \n",
    "    if d>e:\n",
    "        r=n.index(e)\n",
    "        n[i]=e\n",
    "        n[r]=d\n",
    "print(n)"
   ]
  },
  {
   "cell_type": "code",
   "execution_count": 12,
   "metadata": {},
   "outputs": [
    {
     "name": "stdout",
     "output_type": "stream",
     "text": [
      "[2, 3, 4, 5, 7, 8, 9]\n"
     ]
    }
   ],
   "source": [
    "n=[8,2,3,5,4,9,7]\n",
    "for i in range(0,len(n)):\n",
    "    for j in range(0,len(n)-i-1):\n",
    "        if n[j]>n[j+1]:\n",
    "            n[j],n[j+1]=n[j+1],n[j]\n",
    "print(n)"
   ]
  },
  {
   "cell_type": "code",
   "execution_count": 18,
   "metadata": {},
   "outputs": [
    {
     "name": "stdout",
     "output_type": "stream",
     "text": [
      "[2, 3, 4, 5, 7, 8, 9]\n"
     ]
    }
   ],
   "source": [
    "def merge(arr):\n",
    "    if len(arr)>1:\n",
    "        mid=len(arr)//2\n",
    "        l=arr[:mid]\n",
    "        r=arr[mid:]\n",
    "        merge(l)\n",
    "        merge(r)\n",
    "        \n",
    "        i=j=k=0\n",
    "        \n",
    "        while i<len(l) and j<len(r):\n",
    "            if l[i]<r[j]:\n",
    "                arr[k]=l[i]\n",
    "                k+=1\n",
    "                i+=1\n",
    "            else:\n",
    "                arr[k]=r[j]\n",
    "                k+=1\n",
    "                j+=1\n",
    "        while i<len(l):\n",
    "            arr[k]=l[i]\n",
    "            i+=1\n",
    "            k+=1\n",
    "        while j<len(r):\n",
    "            arr[k]=r[j]\n",
    "            j+=1\n",
    "            k+=1\n",
    "n=[8,2,3,5,4,9,7]\n",
    "merge(n)\n",
    "print(n)"
   ]
  },
  {
   "cell_type": "code",
   "execution_count": 21,
   "metadata": {},
   "outputs": [],
   "source": [
    "h=\"hello\""
   ]
  },
  {
   "cell_type": "code",
   "execution_count": 20,
   "metadata": {},
   "outputs": [],
   "source": [
    "h=0"
   ]
  },
  {
   "cell_type": "code",
   "execution_count": 22,
   "metadata": {},
   "outputs": [
    {
     "data": {
      "text/plain": [
       "'h'"
      ]
     },
     "execution_count": 22,
     "metadata": {},
     "output_type": "execute_result"
    }
   ],
   "source": [
    "h[0]"
   ]
  },
  {
   "cell_type": "code",
   "execution_count": 23,
   "metadata": {},
   "outputs": [
    {
     "data": {
      "text/plain": [
       "'h'"
      ]
     },
     "execution_count": 23,
     "metadata": {},
     "output_type": "execute_result"
    }
   ],
   "source": [
    "h[0:1]"
   ]
  },
  {
   "cell_type": "code",
   "execution_count": 31,
   "metadata": {},
   "outputs": [],
   "source": [
    "n=['8',2,3,5,4,9,7]"
   ]
  },
  {
   "cell_type": "code",
   "execution_count": 32,
   "metadata": {},
   "outputs": [],
   "source": [
    "r=n[0]"
   ]
  },
  {
   "cell_type": "code",
   "execution_count": 33,
   "metadata": {},
   "outputs": [],
   "source": [
    "f=n[0:1]"
   ]
  },
  {
   "cell_type": "code",
   "execution_count": 35,
   "metadata": {},
   "outputs": [
    {
     "data": {
      "text/plain": [
       "str"
      ]
     },
     "execution_count": 35,
     "metadata": {},
     "output_type": "execute_result"
    }
   ],
   "source": [
    "type(r)"
   ]
  },
  {
   "cell_type": "code",
   "execution_count": 8,
   "metadata": {},
   "outputs": [
    {
     "name": "stdout",
     "output_type": "stream",
     "text": [
      "[1, 2, 3, 4]\n"
     ]
    }
   ],
   "source": [
    "l=[1,2,3,4]\n",
    "l2=l\n",
    "print(l2)"
   ]
  },
  {
   "cell_type": "code",
   "execution_count": null,
   "metadata": {},
   "outputs": [],
   "source": []
  }
 ],
 "metadata": {
  "kernelspec": {
   "display_name": "Python 3",
   "language": "python",
   "name": "python3"
  },
  "language_info": {
   "codemirror_mode": {
    "name": "ipython",
    "version": 3
   },
   "file_extension": ".py",
   "mimetype": "text/x-python",
   "name": "python",
   "nbconvert_exporter": "python",
   "pygments_lexer": "ipython3",
   "version": "3.7.3"
  }
 },
 "nbformat": 4,
 "nbformat_minor": 2
}
