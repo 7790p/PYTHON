{
 "cells": [
  {
   "cell_type": "code",
   "execution_count": 1,
   "metadata": {},
   "outputs": [],
   "source": [
    "data={\n",
    "     1: {\"customer_no.\" : 12345,\"name\":\"prem singh\",\"Account no\":1357913579,\"address\":\"jaipur\",\"opening date\":\"19/11/2019\",\"password\":\"prem@123\",\"balance\":50000},\n",
    "     2: {\"customer_no.\":12453,\"name\":\"pulkit\",\"Account no\":7896541238,\"address\":\"chennai\",\"opening date\":\"11/12/2019\",\"password\":\"pulkit@123\",\"balance\":10000},\n",
    "     3: {\"customer_no.\":45678,\"name\":\"neha\",\"Account no\":7531264895,\"address\":\"delhi\",\"opening date\":\"22/11/2016\",\"password\":\"neha@123\",\"balance\":100000},\n",
    "     4: {\"customer_no.\":78965,\"name\":\"shruti\",\"Account no\":31568742691,\"address\":\"sikar\",\"opening date\":\"9/2/2008\",\"password\":\"shruti@123\",\"balance\":45000},\n",
    "     5: {\"customer_no.\":74123,\"name\":\"piyush\",\"Account no\":25478931643,\"address\":\"ajmer\",\"opening date\":\"5/9/2013\",\"password\":\"piyush@123\",\"balance\":60000},\n",
    "     6: {\"customer_no.\":12389,\"name\":\"sidhant\",\"Account no\":15486291357,\"address\":\"agra\",\"opening date\":\"29/4/2003\",\"password\":\"sidhant@123\",\"balance\":20000}\n",
    "}"
   ]
  },
  {
   "cell_type": "code",
   "execution_count": null,
   "metadata": {},
   "outputs": [],
   "source": []
  },
  {
   "cell_type": "code",
   "execution_count": 2,
   "metadata": {},
   "outputs": [],
   "source": [
    "def debit(a):\n",
    "    c=int(input(\"\\nenter a amount to debit:\"))\n",
    "    if c<data[a]['balance']:\n",
    "        data[a]['balance']=data[a]['balance']-c\n",
    "        print(\"Updated balance : \",data[a]['balance'])\n",
    "    else:\n",
    "        print(\"Insufficient balance\\n\")\n",
    "    s=int(input(\"\\npress 1: for debit again\\npress 2:for login again\\n3:for exit\\n\"))\n",
    "    if s==1:\n",
    "        debit(a)\n",
    "    elif s==2:\n",
    "        login()\n",
    "    else:\n",
    "        exit()"
   ]
  },
  {
   "cell_type": "code",
   "execution_count": 3,
   "metadata": {},
   "outputs": [],
   "source": [
    "def credit(a):\n",
    "    c=int(input(\"\\nenter a amount to credit:\"))\n",
    "    data[a]['balance']=data[a]['balance']+c\n",
    "    print(\"Updated balance : \",data[a]['balance'])\n",
    "    s=int(input(\"\\npress 1: for continue transaction \\npress 2:for exit\\n\"))\n",
    "    if s==1:\n",
    "        login()\n",
    "    else:\n",
    "        exit()\n",
    "    \n",
    "    \n",
    "    "
   ]
  },
  {
   "cell_type": "code",
   "execution_count": 4,
   "metadata": {},
   "outputs": [],
   "source": [
    "def exit():\n",
    "    print(\"Thank you for visit\")\n",
    "    start()\n",
    "    "
   ]
  },
  {
   "cell_type": "code",
   "execution_count": 5,
   "metadata": {},
   "outputs": [],
   "source": [
    "def check_balance(a):\n",
    "    print(\"\\nYour balance is: \",data[a][\"balance\"])\n",
    "    s=int(input(\"\\npress 1: for continue transaction \\npress 2:for exit\\n\"))\n",
    "    if s==1:\n",
    "        login()\n",
    "    else:\n",
    "        exit()\n",
    "    "
   ]
  },
  {
   "cell_type": "code",
   "execution_count": 6,
   "metadata": {},
   "outputs": [],
   "source": [
    "def login():\n",
    "    a=int(input(\"\\nenter a id : \"))\n",
    "    if a in data:\n",
    "        b=input(\"enter a password : \")\n",
    "        if b in data[a][\"password\"]:\n",
    "            d=int(input(\"\\npress : 1 'check balance' \\npress : 2 'for credit' \\npress : 3 'for debit' \\npress : 4 'for exit' \\n\"))\n",
    "            if d==1:\n",
    "                check_balance(a)\n",
    "            elif d==2:\n",
    "                credit(a)\n",
    "            elif d==3:\n",
    "                debit(a)\n",
    "            elif d==4:\n",
    "                exit()\n",
    "            else:\n",
    "                print(\"wrong choice\")\n",
    "                login()\n",
    "           \n",
    "        else:\n",
    "            s=int(input(\"\\nwrong passsword \\nenter id password again \\npress : 1 for try again\\npress : 2 for exit :\\n \"))\n",
    "            if s==1:\n",
    "                login()\n",
    "            else:\n",
    "                exit()\n",
    "    else:\n",
    "        print(\"\\nWrong id enter\")\n",
    "        login()\n"
   ]
  },
  {
   "cell_type": "code",
   "execution_count": 7,
   "metadata": {},
   "outputs": [],
   "source": [
    "d={}\n",
    "import random\n",
    "def signup():\n",
    "    b=int(input(\"\\nenter a id\"))\n",
    "    if b not in data:\n",
    "        d.update( customer_no=int(input(\"enter a customer no of 5 digits\")),\n",
    "        name=input(\"enter a name:\"),\n",
    "        account_no=random.randrange(100000000,9999999999),\n",
    "        address=input(\"enter a city\"),\n",
    "        date=input(\"enter a date in format date/month/year\"),\n",
    "        password=input(\"enter a password\"),\n",
    "        balance=0),\n",
    "        data.setdefault(b,d)\n",
    "        print(\"succesfully updated\")\n",
    "    else:\n",
    "        print(\"\\nEnter a different id\")\n",
    "        signup()\n",
    "    start()\n",
    "    \n"
   ]
  },
  {
   "cell_type": "code",
   "execution_count": null,
   "metadata": {},
   "outputs": [],
   "source": []
  },
  {
   "cell_type": "code",
   "execution_count": 8,
   "metadata": {},
   "outputs": [],
   "source": [
    "def start():\n",
    "    print(\"\\nEnter to a greebo bank....aapka swagat ni h\")\n",
    "    s=int(input(\"purane greeb ho toh 1 dbao \\nfor new greeb press 2\\nfor start again press  3\\npress 4 for finish the program \\n\"))\n",
    "    if s==1:\n",
    "        login()\n",
    "    elif s==2:\n",
    "        signup()\n",
    "    elif s==3:\n",
    "        start()\n",
    "    else:\n",
    "        print(\"finish\")\n",
    "        "
   ]
  },
  {
   "cell_type": "code",
   "execution_count": 9,
   "metadata": {},
   "outputs": [
    {
     "name": "stdout",
     "output_type": "stream",
     "text": [
      "\n",
      "Enter to a greebo bank....aapka swagat ni h\n",
      "purane greeb ho toh 1 dbao \n",
      "for new greeb press 2\n",
      "for start again press  3\n",
      "press 4 for finish the program \n",
      "1\n",
      "\n",
      "enter a id : 2\n",
      "enter a password : pulkit@123\n",
      "\n",
      "press : 1 'check balance' \n",
      "press : 2 'for credit' \n",
      "press : 3 'for debit' \n",
      "press : 4 'for exit' \n",
      "3\n",
      "\n",
      "enter a amount to debit:2000\n",
      "Updated balance :  8000\n",
      "\n",
      "press 1: for debit again\n",
      "press 2:for login again\n",
      "3:for exit\n",
      "3\n",
      "Thank you for visit\n",
      "\n",
      "Enter to a greebo bank....aapka swagat ni h\n",
      "purane greeb ho toh 1 dbao \n",
      "for new greeb press 2\n",
      "for start again press  3\n",
      "press 4 for finish the program \n",
      "2\n",
      "\n",
      "enter a id21\n",
      "enter a customer no of 5 digits12345\n",
      "enter a name:shyam\n",
      "enter a citykolkata\n",
      "enter a date in format date/month/year12/121/15\n",
      "enter a passwordshyam@123\n",
      "succesfully updated\n",
      "\n",
      "Enter to a greebo bank....aapka swagat ni h\n",
      "purane greeb ho toh 1 dbao \n",
      "for new greeb press 2\n",
      "for start again press  3\n",
      "press 4 for finish the program \n",
      "1\n",
      "\n",
      "enter a id : 21\n",
      "enter a password : shyd\n",
      "\n",
      "wrong passsword \n",
      "enter id password again \n",
      "press : 1 for try again\n",
      "press : 2 for exit :\n",
      " 1\n",
      "\n",
      "enter a id : 21\n",
      "enter a password : shyam@123\n",
      "\n",
      "press : 1 'check balance' \n",
      "press : 2 'for credit' \n",
      "press : 3 'for debit' \n",
      "press : 4 'for exit' \n",
      "1\n",
      "\n",
      "Your balance is:  0\n",
      "\n",
      "press 1: for continue transaction \n",
      "press 2:for exit\n",
      "1\n",
      "\n",
      "enter a id : 21\n",
      "enter a password : kjhg\n",
      "\n",
      "wrong passsword \n",
      "enter id password again \n",
      "press : 1 for try again\n",
      "press : 2 for exit :\n",
      " 2\n",
      "Thank you for visit\n",
      "\n",
      "Enter to a greebo bank....aapka swagat ni h\n",
      "purane greeb ho toh 1 dbao \n",
      "for new greeb press 2\n",
      "for start again press  3\n",
      "press 4 for finish the program \n",
      "4\n",
      "finish\n"
     ]
    }
   ],
   "source": [
    "start()"
   ]
  },
  {
   "cell_type": "code",
   "execution_count": 10,
   "metadata": {},
   "outputs": [
    {
     "name": "stdout",
     "output_type": "stream",
     "text": [
      "{1: {'customer_no.': 12345, 'name': 'prem singh', 'Account no': 1357913579, 'address': 'jaipur', 'opening date': '19/11/2019', 'password': 'prem@123', 'balance': 50000}, 2: {'customer_no.': 12453, 'name': 'pulkit', 'Account no': 7896541238, 'address': 'chennai', 'opening date': '11/12/2019', 'password': 'pulkit@123', 'balance': 8000}, 3: {'customer_no.': 45678, 'name': 'neha', 'Account no': 7531264895, 'address': 'delhi', 'opening date': '22/11/2016', 'password': 'neha@123', 'balance': 100000}, 4: {'customer_no.': 78965, 'name': 'shruti', 'Account no': 31568742691, 'address': 'sikar', 'opening date': '9/2/2008', 'password': 'shruti@123', 'balance': 45000}, 5: {'customer_no.': 74123, 'name': 'piyush', 'Account no': 25478931643, 'address': 'ajmer', 'opening date': '5/9/2013', 'password': 'piyush@123', 'balance': 60000}, 6: {'customer_no.': 12389, 'name': 'sidhant', 'Account no': 15486291357, 'address': 'agra', 'opening date': '29/4/2003', 'password': 'sidhant@123', 'balance': 20000}, 21: {'customer_no': 12345, 'name': 'shyam', 'account_no': 6068097264, 'address': 'kolkata', 'date': '12/121/15', 'password': 'shyam@123', 'balance': 0}}\n"
     ]
    }
   ],
   "source": [
    "print(data)"
   ]
  },
  {
   "cell_type": "code",
   "execution_count": null,
   "metadata": {},
   "outputs": [],
   "source": []
  }
 ],
 "metadata": {
  "kernelspec": {
   "display_name": "Python 3",
   "language": "python",
   "name": "python3"
  },
  "language_info": {
   "codemirror_mode": {
    "name": "ipython",
    "version": 3
   },
   "file_extension": ".py",
   "mimetype": "text/x-python",
   "name": "python",
   "nbconvert_exporter": "python",
   "pygments_lexer": "ipython3",
   "version": "3.7.3"
  }
 },
 "nbformat": 4,
 "nbformat_minor": 2
}
