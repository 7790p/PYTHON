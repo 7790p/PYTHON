{
 "cells": [
  {
   "cell_type": "markdown",
   "metadata": {},
   "source": [
    "## Write a Python program to find maximum between three numbers."
   ]
  },
  {
   "cell_type": "code",
   "execution_count": 3,
   "metadata": {},
   "outputs": [
    {
     "name": "stdout",
     "output_type": "stream",
     "text": [
      "8 6 9\n",
      "9\n"
     ]
    }
   ],
   "source": [
    "z,x,c=map(int,input().split())\n",
    "print(max(z,x,c))"
   ]
  },
  {
   "cell_type": "markdown",
   "metadata": {},
   "source": [
    "## Write a Python program to check whether a number is divisible by 5 and 11 or not."
   ]
  },
  {
   "cell_type": "code",
   "execution_count": 9,
   "metadata": {},
   "outputs": [
    {
     "name": "stdout",
     "output_type": "stream",
     "text": [
      "enter a no55\n",
      "55 is divisible by 5 or 11 both\n"
     ]
    }
   ],
   "source": [
    "n=int(input(\"enter a no\"))\n",
    "if ((n%5==0) and (n%11==0)):\n",
    "    print(n,\"is divisible by 5 or 11 both\")\n",
    "elif(n%5==0):\n",
    "    print(n,\"is divisible by only 5\")\n",
    "elif(n%11==0):\n",
    "    print(n,\"is divisible only by 11\")\n",
    "else:\n",
    "    print(n,\"is not divisible by aby onne\")\n",
    "    "
   ]
  },
  {
   "cell_type": "markdown",
   "metadata": {},
   "source": [
    "## Write a Python program to check whether a character is alphabet or not."
   ]
  },
  {
   "cell_type": "code",
   "execution_count": 3,
   "metadata": {},
   "outputs": [
    {
     "name": "stdout",
     "output_type": "stream",
     "text": [
      "enter a chaarcter:b\n"
     ]
    },
    {
     "data": {
      "text/plain": [
       "True"
      ]
     },
     "execution_count": 3,
     "metadata": {},
     "output_type": "execute_result"
    }
   ],
   "source": [
    "z=input(\"enter a chaarcter:\")\n",
    "z.isalpha()"
   ]
  },
  {
   "cell_type": "markdown",
   "metadata": {},
   "source": [
    "## Write a Python program to input any alphabet and check whether it is vowel or consonant.\n"
   ]
  },
  {
   "cell_type": "code",
   "execution_count": 8,
   "metadata": {},
   "outputs": [
    {
     "name": "stdout",
     "output_type": "stream",
     "text": [
      "enter a character:A\n",
      "a is vowels\n"
     ]
    }
   ],
   "source": [
    "n=input(\"enter a character:\").lower()\n",
    "v=['a','e','i','o','u']\n",
    "if n in v:\n",
    "    print(n,\"is vowels\")\n",
    "else:\n",
    "    print(n,\" is consonent\")"
   ]
  },
  {
   "cell_type": "markdown",
   "metadata": {},
   "source": [
    "## Write a Python program to input any character and check whether it is alphabet, digit or special character.\n",
    "\n"
   ]
  },
  {
   "cell_type": "code",
   "execution_count": 7,
   "metadata": {},
   "outputs": [
    {
     "name": "stdout",
     "output_type": "stream",
     "text": [
      "enter a character:^\n",
      "its spcial character\n"
     ]
    }
   ],
   "source": [
    "n=input(\"enter a character:\")\n",
    "if n.isalpha():\n",
    "    print(\"its alphabet\")\n",
    "elif n.isdigit():\n",
    "    print(\"its digit\")\n",
    "else:\n",
    "    print(\"its spcial character\")\n",
    "\n"
   ]
  },
  {
   "cell_type": "markdown",
   "metadata": {},
   "source": [
    "## Write a Python program to check whether a character is uppercase or lowercase alphabet.\n"
   ]
  },
  {
   "cell_type": "code",
   "execution_count": 2,
   "metadata": {},
   "outputs": [
    {
     "name": "stdout",
     "output_type": "stream",
     "text": [
      "enter a character:C\n",
      "it is upper\n"
     ]
    }
   ],
   "source": [
    "n=input(\"enter a character:\")\n",
    "if n==n.upper():\n",
    "    print(\"it is upper\")\n",
    "else:\n",
    "    print(\"it is lower\")"
   ]
  },
  {
   "cell_type": "markdown",
   "metadata": {},
   "source": [
    "## Write a Python program to input week number and print week day.\n"
   ]
  },
  {
   "cell_type": "code",
   "execution_count": 5,
   "metadata": {},
   "outputs": [
    {
     "name": "stdout",
     "output_type": "stream",
     "text": [
      "enter a week no between 1- 7:4\n",
      "thursday\n"
     ]
    }
   ],
   "source": [
    "n=int(input(\"enter a week no between 1- 7:\"))\n",
    "l=['monday','tuesday','wednesday','thursday','friday','saturday','sunday']\n",
    "print(l[n-1])"
   ]
  },
  {
   "cell_type": "markdown",
   "metadata": {},
   "source": [
    "## Write a Python program to input month number and print number of days in that month.\n"
   ]
  },
  {
   "cell_type": "code",
   "execution_count": 3,
   "metadata": {},
   "outputs": [
    {
     "name": "stdout",
     "output_type": "stream",
     "text": [
      "enter month no like 1 for jan 2 for feb.....12 for dec:6\n",
      "30 days\n"
     ]
    }
   ],
   "source": [
    "n=int(input(\"enter month no like 1 for jan 2 for feb.....12 for dec:\"))\n",
    "if n==2:\n",
    "    print(\"28 days\")\n",
    "elif(n==1 or n==3 or n==5 or n==7 or n==8 or n==10 or n==12):\n",
    "    print(\"31 days\")\n",
    "else:\n",
    "    print(\"30 days\")"
   ]
  },
  {
   "cell_type": "markdown",
   "metadata": {},
   "source": [
    "## Write a Python program to count total number of notes in given amount."
   ]
  },
  {
   "cell_type": "code",
   "execution_count": 12,
   "metadata": {},
   "outputs": [
    {
     "name": "stdout",
     "output_type": "stream",
     "text": [
      "enter a amunt1252\n",
      "500rs notes= 2\n",
      "100rs notes= 2\n",
      "10rs notes= 5\n",
      "1rs notes= 2\n"
     ]
    }
   ],
   "source": [
    "n=int(input(\"enter a amunt\"))\n",
    "n5=n100=n10=n01=0\n",
    "if n>500:\n",
    "    n5=n//500\n",
    "    n=n-(n5*500)\n",
    "if n>100:\n",
    "    n100=n//100\n",
    "    n=n-(n100*100)\n",
    "\n",
    "if n>10:\n",
    "    n10=n//10\n",
    "    n=n-(n10*10)\n",
    "if n>=1:\n",
    "    n01=n\n",
    "print(\"500rs notes=\",n5)\n",
    "print(\"100rs notes=\",n100)\n",
    "print(\"10rs notes=\",n10)\n",
    "print(\"1rs notes=\",n01)"
   ]
  },
  {
   "cell_type": "markdown",
   "metadata": {},
   "source": [
    "\n",
    "## Write a Python program to input angles of a triangle and check whether triangle is valid or not.\n"
   ]
  },
  {
   "cell_type": "code",
   "execution_count": 16,
   "metadata": {},
   "outputs": [
    {
     "name": "stdout",
     "output_type": "stream",
     "text": [
      "enter 1 st angle:45\n",
      "enter 2nd angle:21\n",
      "enter 3rd angle:120\n",
      "not valid\n"
     ]
    }
   ],
   "source": [
    "a=int(input(\"enter 1 st angle:\"))\n",
    "b=int(input(\"enter 2nd angle:\"))\n",
    "c=int(input(\"enter 3rd angle:\"))\n",
    "if (a+b+c)<=180:\n",
    "    if (((a+b)>c) and ((a+c)>b) and ((b+c)>a)):\n",
    "        print(\"valid\")\n",
    "    else:\n",
    "        print(\"not valid\")\n",
    "else:\n",
    "    print(\"not valid\")"
   ]
  },
  {
   "cell_type": "markdown",
   "metadata": {},
   "source": [
    "## Write a Python program to check whether the triangle is equilateral, isosceles or scalene triangle"
   ]
  },
  {
   "cell_type": "code",
   "execution_count": 23,
   "metadata": {},
   "outputs": [
    {
     "name": "stdout",
     "output_type": "stream",
     "text": [
      "enter a first side:4\n",
      "enter a second side:4\n",
      "enter a third side:5\n",
      "\n",
      "isosceles traingle\n"
     ]
    }
   ],
   "source": [
    "a=int(input(\"enter a first side:\"))\n",
    "b=int(input(\"enter a second side:\"))\n",
    "c=int(input(\"enter a third side:\"))\n",
    "if (a==b==c):\n",
    "    print(\"\\n equilateral traingle\")\n",
    "elif (a!=b!=c):\n",
    "    print(\"\\n scalene traingle\")\n",
    "elif ((a==b) or (b==c) or (a==c)):\n",
    "    print(\"\\nisosceles traingle\")"
   ]
  },
  {
   "cell_type": "markdown",
   "metadata": {},
   "source": [
    "## Write a Python program to find all roots of a quadratic equation.\n"
   ]
  },
  {
   "cell_type": "code",
   "execution_count": 27,
   "metadata": {},
   "outputs": [
    {
     "name": "stdout",
     "output_type": "stream",
     "text": [
      "enter the vlue of a:4\n",
      "enter the value of b:5\n",
      "enter the value of c:6\n",
      "Two Distinct Complex Roots Exists: root1: -0.625 1.0532687216470449 root 2 -0.625 1.0532687216470449\n"
     ]
    }
   ],
   "source": [
    "import math\n",
    "a=int(input(\"enter the vlue of a:\"))\n",
    "b=int(input(\"enter the value of b:\"))\n",
    "c=int(input(\"enter the value of c:\"))\n",
    "\n",
    "d=(b*b)-(4*a*c)\n",
    "\n",
    "if(d > 0):\n",
    "    r1 = (-b + math.sqrt(d) / (2 * a))\n",
    "    r2 = (-b - math.sqrt(d) / (2 * a))\n",
    "    print(\"Two Distinct Real Roots Exists: root1 \",r1,\"root 2\", r2)\n",
    "elif(d == 0):\n",
    "    r1 = r2 = -b / (2 * a)\n",
    "    print(\"Two Equal and Real Roots Exists: root1:\",r1 ,\"root 2\",r2)\n",
    "elif(d < 0):\n",
    "    r1 = r2 = -b / (2 * a)\n",
    "    imaginary = math.sqrt(-d) / (2 * a)\n",
    "    print(\"Two Distinct Complex Roots Exists: root1:\",r1, imaginary,\"root 2\" ,r2, imaginary)"
   ]
  },
  {
   "cell_type": "markdown",
   "metadata": {},
   "source": [
    "Write a Python program to calculate profit or loss."
   ]
  },
  {
   "cell_type": "code",
   "execution_count": 31,
   "metadata": {},
   "outputs": [
    {
     "name": "stdout",
     "output_type": "stream",
     "text": [
      "enter a previous amount:8000\n",
      "enter a new amount:40000\n",
      "profit \n",
      "profit of  32000\n"
     ]
    }
   ],
   "source": [
    "a=int(input(\"enter a previous amount:\"))\n",
    "b=int(input(\"enter a new amount:\"))\n",
    "if a>b:\n",
    "    print(\"losss \\nlosss of\",a-b )\n",
    "elif (b>a):\n",
    "    print(\"profit \\nprofit of \",b-a)\n",
    "else:\n",
    "    print(\"no profit no loss\")\n",
    "    "
   ]
  },
  {
   "cell_type": "markdown",
   "metadata": {},
   "source": [
    "## Write a Python program to input marks of five subjects Physics, Chemistry, Biology, Mathematics and Computer. Calculate percentage and grade according to following: \n",
    "Percentage >= 90% : Grade A \n",
    "Percentage >= 80% : Grade B \n",
    "Percentage >= 70% : Grade C \n",
    "Percentage >= 60% : Grade D \n",
    "Percentage >= 40% : Grade E \n",
    "Percentage < 40% : Grade F\n"
   ]
  },
  {
   "cell_type": "code",
   "execution_count": 3,
   "metadata": {},
   "outputs": [
    {
     "name": "stdout",
     "output_type": "stream",
     "text": [
      "enter a no of physics:45\n",
      "enter a no of chem:45\n",
      "enter a no of bio:95\n",
      "enter a no of maths:20\n",
      "enter a no of comp:10\n",
      "43.0\n",
      "fail with :  43.0 %\n"
     ]
    }
   ],
   "source": [
    "a=int(input(\"enter a no of physics:\"))\n",
    "b=int(input(\"enter a no of chem:\"))\n",
    "c=int(input(\"enter a no of bio:\"))\n",
    "d=int(input(\"enter a no of maths:\"))\n",
    "e=int(input(\"enter a no of comp:\"))\n",
    "\n",
    "sum=a+b+c+d+e\n",
    "grade=sum/5\n",
    "print(grade)\n",
    "\n",
    "if grade>=90:\n",
    "    print(\"Grade a with :\",grade,\"%\")\n",
    "elif grade>=80:\n",
    "    print(\"Grade b with : \",grade,\"%\")\n",
    "elif grade>=70:\n",
    "    print(\"Grade c with : \",grade,\"%\")\n",
    "elif grade>=50:\n",
    "    print(\"Grade d with : \",grade,\"%\")\n",
    "else:\n",
    "    print(\"fail with : \",grade,\"%\")\n"
   ]
  },
  {
   "cell_type": "markdown",
   "metadata": {},
   "source": [
    "## Write a Python program to input basic salary of an employee and calculate its Gross salary according to following: \n",
    "\n",
    "Basic Salary <= 10000 : HRA = 20%, DA = 80% \n",
    "Basic Salary <= 20000 : HRA = 25%, DA = 90% \n",
    "Basic Salary > 20000 : HRA = 30%, DA = 95%\n"
   ]
  },
  {
   "cell_type": "code",
   "execution_count": 9,
   "metadata": {},
   "outputs": [
    {
     "name": "stdout",
     "output_type": "stream",
     "text": [
      "enter a basic salary:22200\n",
      "gross salary : 49950.0\n"
     ]
    }
   ],
   "source": [
    "n=int(input(\"enter a basic salary:\"))\n",
    "if n<=10000:\n",
    "    n=n+(n*20/100)+(n*80/100)\n",
    "elif n<=20000:\n",
    "       n=n+(n*25/100)+(n*90/100)\n",
    "else:\n",
    "    n=n+(n*30/100)+(n*95/100)\n",
    "\n",
    "print(\"gross salary :\",n)\n",
    "        "
   ]
  },
  {
   "cell_type": "markdown",
   "metadata": {},
   "source": [
    "## Write a Python Program to input electricity unit charges and calculate total electricity bill according to the given condition: \n",
    "\n",
    "For first 50 units Rs. 0.50/unit\n",
    "For next 100 units Rs. 0.75/unit\n",
    "For next 100 units Rs. 1.20/unit\n",
    "For unit above 250 Rs. 1.50/unit\n",
    "An additional surcharge of 20% is added to the bill"
   ]
  },
  {
   "cell_type": "code",
   "execution_count": 16,
   "metadata": {},
   "outputs": [
    {
     "name": "stdout",
     "output_type": "stream",
     "text": [
      "enter a no of units : 500\n",
      "cost :  900.0\n"
     ]
    }
   ],
   "source": [
    "n=int(input(\"enter a no of units : \"))\n",
    "if n<=50:\n",
    "    c=n*0.50\n",
    "    c=1.2*c\n",
    "    print(\"cost : \",c)\n",
    "elif n<=150:\n",
    "    c=n*0.75\n",
    "    c=(1.2*c)\n",
    "    print(\"cost : \",c)\n",
    "elif n<=250:\n",
    "    c=n*1.20\n",
    "    c==c*1.2\n",
    "    print(\"cost\",c)\n",
    "else:\n",
    "    c=n*1.50\n",
    "    c=c*1.2\n",
    "    print(\"cost : \",c)"
   ]
  },
  {
   "cell_type": "code",
   "execution_count": null,
   "metadata": {},
   "outputs": [],
   "source": []
  },
  {
   "cell_type": "code",
   "execution_count": null,
   "metadata": {},
   "outputs": [],
   "source": []
  },
  {
   "cell_type": "code",
   "execution_count": null,
   "metadata": {},
   "outputs": [],
   "source": []
  }
 ],
 "metadata": {
  "kernelspec": {
   "display_name": "Python 3",
   "language": "python",
   "name": "python3"
  },
  "language_info": {
   "codemirror_mode": {
    "name": "ipython",
    "version": 3
   },
   "file_extension": ".py",
   "mimetype": "text/x-python",
   "name": "python",
   "nbconvert_exporter": "python",
   "pygments_lexer": "ipython3",
   "version": "3.7.3"
  }
 },
 "nbformat": 4,
 "nbformat_minor": 2
}
